{
 "cells": [
  {
   "cell_type": "markdown",
   "id": "4e262310",
   "metadata": {},
   "source": [
    "### Import Libs"
   ]
  },
  {
   "cell_type": "code",
   "id": "95d3f1324b0501e6",
   "metadata": {
    "collapsed": false,
    "ExecuteTime": {
     "end_time": "2024-06-28T13:29:52.877795Z",
     "start_time": "2024-06-28T13:29:52.873778Z"
    }
   },
   "source": [
    "import matplotlib.pyplot as plt\n",
    "import numpy as np\n",
    "import random"
   ],
   "outputs": [],
   "execution_count": 48
  },
  {
   "cell_type": "markdown",
   "id": "9da22522",
   "metadata": {},
   "source": [
    "### Create Individual"
   ]
  },
  {
   "cell_type": "code",
   "id": "de1142d0",
   "metadata": {
    "ExecuteTime": {
     "end_time": "2024-06-28T13:28:07.376480Z",
     "start_time": "2024-06-28T13:28:07.374669Z"
    }
   },
   "source": [
    "def create_individual():\n",
    "    # TODO: create a random chromosome\n",
    "    arr = np.array(range(1,9,1))\n",
    "    np.random.shuffle(arr)\n",
    "    \n",
    "    return arr.tolist()"
   ],
   "outputs": [],
   "execution_count": 37
  },
  {
   "cell_type": "markdown",
   "id": "4ce5eabe",
   "metadata": {},
   "source": [
    "### Generate Population"
   ]
  },
  {
   "cell_type": "code",
   "id": "a66475735b552b41",
   "metadata": {
    "collapsed": false,
    "ExecuteTime": {
     "end_time": "2024-06-28T13:28:07.750531Z",
     "start_time": "2024-06-28T13:28:07.748826Z"
    }
   },
   "source": [
    "def generate_population(population_size:int = 20):\n",
    "    population = []\n",
    "\n",
    "    for _ in range(population_size):\n",
    "        new_individual = create_individual()\n",
    "        population.append(new_individual)\n",
    "    \n",
    "    return population"
   ],
   "outputs": [],
   "execution_count": 38
  },
  {
   "metadata": {
    "ExecuteTime": {
     "end_time": "2024-06-28T13:28:07.928699Z",
     "start_time": "2024-06-28T13:28:07.924811Z"
    }
   },
   "cell_type": "code",
   "source": "generate_population()",
   "id": "933649adafa1c4c8",
   "outputs": [
    {
     "data": {
      "text/plain": [
       "[[6, 4, 7, 1, 3, 2, 8, 5],\n",
       " [3, 2, 6, 8, 4, 1, 7, 5],\n",
       " [4, 6, 5, 1, 3, 8, 2, 7],\n",
       " [3, 8, 2, 5, 7, 1, 6, 4],\n",
       " [5, 4, 8, 1, 2, 6, 7, 3],\n",
       " [4, 2, 1, 5, 6, 3, 8, 7],\n",
       " [8, 4, 3, 6, 7, 2, 1, 5],\n",
       " [5, 4, 6, 8, 3, 1, 2, 7],\n",
       " [6, 1, 3, 8, 7, 4, 5, 2],\n",
       " [8, 7, 5, 6, 4, 1, 3, 2],\n",
       " [7, 6, 8, 4, 1, 5, 3, 2],\n",
       " [6, 2, 1, 7, 8, 5, 3, 4],\n",
       " [2, 7, 1, 5, 3, 4, 6, 8],\n",
       " [5, 1, 6, 8, 3, 2, 4, 7],\n",
       " [6, 2, 4, 5, 8, 7, 3, 1],\n",
       " [8, 4, 6, 5, 3, 2, 7, 1],\n",
       " [7, 6, 1, 2, 3, 4, 8, 5],\n",
       " [6, 8, 1, 2, 3, 4, 7, 5],\n",
       " [1, 4, 6, 8, 3, 2, 7, 5],\n",
       " [1, 8, 5, 4, 7, 6, 2, 3]]"
      ]
     },
     "execution_count": 39,
     "metadata": {},
     "output_type": "execute_result"
    }
   ],
   "execution_count": 39
  },
  {
   "metadata": {},
   "cell_type": "markdown",
   "source": "### Parent Selection",
   "id": "0d944dab"
  },
  {
   "metadata": {
    "ExecuteTime": {
     "end_time": "2024-06-28T13:29:39.949094Z",
     "start_time": "2024-06-28T13:29:39.942625Z"
    }
   },
   "cell_type": "code",
   "source": [
    "def SUS(population: dict, population_size:int = 20):\n",
    "    probability_ruler = []\n",
    "    population_keys = list(population.keys())\n",
    "    \n",
    "    selected_list = []\n",
    "    \n",
    "    for i in range(len(population)):\n",
    "        if i == 0:\n",
    "            probability_ruler.append(population[population_keys[i]])\n",
    "            continue\n",
    "        probability_ruler.append(population[population_keys[i]] + population[population_keys[i-1]])\n",
    "    \n",
    "    rand_prob = random.random() / population_size\n",
    "    \n",
    "    index = 0\n",
    "    for i in range(population_size):\n",
    "        current_prob = rand_prob + i / population_size\n",
    "        if current_prob < probability_ruler[index]:\n",
    "            selected_list.append(population_keys[index])\n",
    "        else:\n",
    "            index += 1\n",
    "            for j in range(index, len(population_keys)):\n",
    "                if current_prob < probability_ruler[j]:\n",
    "                    index = j\n",
    "                    selected_list.append(population_keys[index])\n",
    "                    break\n",
    "            \n",
    "    return selected_list"
   ],
   "id": "794f6e2e1a020298",
   "outputs": [],
   "execution_count": 47
  },
  {
   "cell_type": "code",
   "id": "261340cc4efeca3",
   "metadata": {
    "collapsed": false,
    "ExecuteTime": {
     "end_time": "2024-06-28T13:28:09.616594Z",
     "start_time": "2024-06-28T13:28:09.614215Z"
    }
   },
   "source": [
    "def parent_selection(population: dict ,population_size:int = 20):\n",
    "    #TODO: choose the pairs of parents\n",
    "    sum_population = sum(population.values())\n",
    "    prob_population = {}\n",
    "    for p in population.keys():\n",
    "        prob_population[p] = population[p] / sum_population\n",
    "    \n",
    "    parents = SUS(prob_population,population_size)\n",
    "            \n",
    "    return parents"
   ],
   "outputs": [],
   "execution_count": 41
  },
  {
   "cell_type": "markdown",
   "id": "c6c4da1f",
   "metadata": {},
   "source": [
    "### Next Generation Selection"
   ]
  },
  {
   "cell_type": "code",
   "execution_count": null,
   "id": "d22feb7e",
   "metadata": {},
   "outputs": [],
   "source": [
    "def next_generation_selection(children_population):\n",
    "    next_generation = []\n",
    "    #TODO: choose the next_generation\n",
    "            \n",
    "    return next_generation"
   ]
  },
  {
   "cell_type": "markdown",
   "id": "f4380bb4",
   "metadata": {},
   "source": [
    "### Crossover"
   ]
  },
  {
   "cell_type": "code",
   "execution_count": null,
   "id": "a140f7ad9542ffba",
   "metadata": {
    "collapsed": false
   },
   "outputs": [],
   "source": [
    "def crossover(parents):\n",
    "    offsprings = []\n",
    "    # TODO: implement you crossover algorithm\n",
    "    parents = np.array(parents)\n",
    "    np.random.shuffle(parents)\n",
    "    queen_number = len(parents[0].split(\" \"))\n",
    "\n",
    "    for i in range(int(len(parents) / 2)):\n",
    "        if random.random() > 0.8:\n",
    "            continue\n",
    "\n",
    "        crossover_point = random.randint(0, queen_number - 1)\n",
    "\n",
    "        parent_1 = parents[2 * i].split(\" \")\n",
    "        parent_2 = parents[2 * i + 1].split(\" \")\n",
    "\n",
    "        offspring_1 = parent_1[:crossover_point]\n",
    "        offspring_2 = parent_2[:crossover_point]\n",
    "\n",
    "        index = crossover_point\n",
    "        for j in range(queen_number - crossover_point):\n",
    "            if parent_2[index] not in offspring_1:\n",
    "                offspring_1.append(parent_2[index])\n",
    "                index = (index + 1) % queen_number\n",
    "                continue\n",
    "\n",
    "            while parent_2[index] in offspring_1:\n",
    "                index = (index + 1) % queen_number\n",
    "\n",
    "            offspring_1.append(parent_2[index])\n",
    "\n",
    "        index = crossover_point\n",
    "        for j in range(queen_number - crossover_point):\n",
    "            if parent_1[index] not in offspring_2:\n",
    "                offspring_2.append(parent_1[index])\n",
    "                index = (index + 1) % queen_number\n",
    "                continue\n",
    "\n",
    "            while parent_1[index] in offspring_2:\n",
    "                index = (index + 1) % queen_number\n",
    "\n",
    "            offspring_2.append(parent_1[index])\n",
    "\n",
    "        offsprings.append(offspring_1)\n",
    "        offsprings.append(offspring_2)\n",
    "\n",
    "    return offsprings"
   ]
  },
  {
   "cell_type": "markdown",
   "id": "0bdde8d6",
   "metadata": {},
   "source": [
    "### Mutation"
   ]
  },
  {
   "cell_type": "code",
   "execution_count": null,
   "id": "7f3f19b5790d8e8e",
   "metadata": {
    "collapsed": false
   },
   "outputs": [],
   "source": [
    "def mutate(seq):\n",
    "    #TODO: implement mutate\n",
    "    \n",
    "    return seq"
   ]
  },
  {
   "cell_type": "markdown",
   "id": "833ea75e",
   "metadata": {},
   "source": [
    "### Score Function"
   ]
  },
  {
   "cell_type": "code",
   "id": "15c492631c51bd96",
   "metadata": {
    "collapsed": false,
    "ExecuteTime": {
     "end_time": "2024-06-28T13:28:17.422704Z",
     "start_time": "2024-06-28T13:28:17.419877Z"
    }
   },
   "source": [
    "def fitness_score(seq):\n",
    "    fit_score = 0\n",
    "    #TODO: calculate fitness score\n",
    "    status_queen = np.ones(len(seq))\n",
    "    for current_row in range(len(seq)):\n",
    "        flag = 1\n",
    "        for other_row in range(current_row+1,len(seq)):\n",
    "            if seq[current_row] == seq[other_row]:\n",
    "                print(current_row, other_row)\n",
    "                status_queen[current_row] = 0\n",
    "                status_queen[other_row] = 0\n",
    "                flag = 0\n",
    "                continue\n",
    "            if abs(seq[current_row] - seq[other_row]) == abs(current_row - other_row):\n",
    "                print(current_row, other_row)\n",
    "                status_queen[current_row] = 0\n",
    "                status_queen[other_row] = 0\n",
    "                flag = 0\n",
    "                continue\n",
    "        \n",
    "        if flag==1 and status_queen[current_row] == 1: \n",
    "            print(flag , current_row)\n",
    "            fit_score += 1\n",
    "    return fit_score"
   ],
   "outputs": [],
   "execution_count": 42
  },
  {
   "metadata": {
    "ExecuteTime": {
     "end_time": "2024-06-28T13:28:17.937108Z",
     "start_time": "2024-06-28T13:28:17.934322Z"
    }
   },
   "cell_type": "code",
   "source": "fitness_score([5, 4, 7, 6, 2, 3, 1, 8])",
   "id": "b0ca1cc41af4ce34",
   "outputs": [
    {
     "name": "stdout",
     "output_type": "stream",
     "text": [
      "0 1\n",
      "0 2\n",
      "1 3\n",
      "2 3\n",
      "4 5\n",
      "1 6\n",
      "1 7\n"
     ]
    },
    {
     "data": {
      "text/plain": [
       "2"
      ]
     },
     "execution_count": 43,
     "metadata": {},
     "output_type": "execute_result"
    }
   ],
   "execution_count": 43
  },
  {
   "cell_type": "markdown",
   "id": "9a4ea63e",
   "metadata": {},
   "source": [
    "## Calculate Population Fitness"
   ]
  },
  {
   "cell_type": "code",
   "id": "ae632959",
   "metadata": {
    "ExecuteTime": {
     "end_time": "2024-06-28T13:28:19.689350Z",
     "start_time": "2024-06-28T13:28:19.687336Z"
    }
   },
   "source": [
    "def population_fitness(population):\n",
    "    population_fitness = 0\n",
    "    individuals_fitnesses:dict = {}\n",
    "    for chromosome in population:\n",
    "        fitness_sc = fitness_score(chromosome)\n",
    "        population_fitness += fitness_sc\n",
    "        ch= ' '.join(str(x) for x in chromosome)\n",
    "        # print(ch)\n",
    "        individuals_fitnesses[ch] = fitness_sc\n",
    "    return individuals_fitnesses ,population_fitness"
   ],
   "outputs": [],
   "execution_count": 44
  },
  {
   "cell_type": "markdown",
   "id": "99b5facc",
   "metadata": {},
   "source": [
    "### Termination Condition"
   ]
  },
  {
   "cell_type": "code",
   "execution_count": null,
   "id": "5f77977c",
   "metadata": {},
   "outputs": [],
   "source": [
    "def check_end(population) -> bool:\n",
    "    #TODO: check end of algorithm\n",
    "    \n",
    "    return ..."
   ]
  },
  {
   "cell_type": "markdown",
   "id": "b223c1dc",
   "metadata": {},
   "source": [
    "### Run Your Algorithms"
   ]
  },
  {
   "cell_type": "code",
   "execution_count": null,
   "id": "392ff74d8fb7ab3e",
   "metadata": {
    "collapsed": false
   },
   "outputs": [],
   "source": [
    "# The genetic algorithm\n",
    "generation = 0\n",
    "solution_is_found = False\n",
    "fitness = []\n",
    "\n",
    "population = generate_population()\n",
    "population , population_fitness = population_fitness(population)\n",
    "\n",
    "while not check_end(population):\n",
    "    # TODO: this is a default setup which you maybe need to change.\n",
    "    population = parent_selection(population)\n",
    "    population = crossover(population)\n",
    "    population = mutate(population)\n",
    "    individuals_fitnesses , population_fitness = population_fitness(population)\n",
    "    population = next_generation_selection(population)\n",
    "    \n",
    "    generation += 1\n",
    "    avg_fit = population_fitness / population.__len__()\n",
    "    fitness.append(avg_fit)\n"
   ]
  },
  {
   "cell_type": "markdown",
   "id": "174334b7",
   "metadata": {},
   "source": [
    "### See Your Progress Over Generations"
   ]
  },
  {
   "cell_type": "code",
   "execution_count": null,
   "id": "62a19a5f372d7885",
   "metadata": {
    "collapsed": false
   },
   "outputs": [],
   "source": [
    "plt.bar(range(generation), fitness, color='skyblue')\n",
    "plt.xlabel('Generation', fontsize=20)\n",
    "plt.ylabel('Average Fitness', fontsize=20)\n",
    "plt.title('Fitness over Generations', fontsize=20)\n",
    "plt.show()"
   ]
  },
  {
   "metadata": {},
   "cell_type": "markdown",
   "source": "Test code",
   "id": "d327bdb863d61774"
  },
  {
   "metadata": {
    "ExecuteTime": {
     "end_time": "2024-06-28T13:30:45.919510Z",
     "start_time": "2024-06-28T13:30:45.914402Z"
    }
   },
   "cell_type": "code",
   "source": [
    "generation = 0\n",
    "solution_is_found = False\n",
    "fitness = []\n",
    "\n",
    "population = generate_population()\n",
    "population , population_fit = population_fitness(population)\n",
    "print(population)\n",
    "population = parent_selection(population)"
   ],
   "id": "c17330dd08b87809",
   "outputs": [
    {
     "name": "stdout",
     "output_type": "stream",
     "text": [
      "0 4\n",
      "1 1\n",
      "2 6\n",
      "3 4\n",
      "1 5\n",
      "1 7\n",
      "0 3\n",
      "0 4\n",
      "0 6\n",
      "1 2\n",
      "3 4\n",
      "3 6\n",
      "4 6\n",
      "5 6\n",
      "5 7\n",
      "6 7\n",
      "0 2\n",
      "1 3\n",
      "2 5\n",
      "4 5\n",
      "1 6\n",
      "1 7\n",
      "0 2\n",
      "1 2\n",
      "1 4\n",
      "3 4\n",
      "1 5\n",
      "1 6\n",
      "1 7\n",
      "0 4\n",
      "1 1\n",
      "1 2\n",
      "3 5\n",
      "3 7\n",
      "4 5\n",
      "4 6\n",
      "5 6\n",
      "5 7\n",
      "1 0\n",
      "1 1\n",
      "1 2\n",
      "3 5\n",
      "4 6\n",
      "4 7\n",
      "6 7\n",
      "0 2\n",
      "1 2\n",
      "3 4\n",
      "4 6\n",
      "1 5\n",
      "1 7\n",
      "1 0\n",
      "1 2\n",
      "1 3\n",
      "1 5\n",
      "1 6\n",
      "2 3\n",
      "1 4\n",
      "5 6\n",
      "1 7\n",
      "1 0\n",
      "1 1\n",
      "2 5\n",
      "1 3\n",
      "1 4\n",
      "1 6\n",
      "1 7\n",
      "0 1\n",
      "0 2\n",
      "1 3\n",
      "4 6\n",
      "1 5\n",
      "1 7\n",
      "1 0\n",
      "1 2\n",
      "3 5\n",
      "3 6\n",
      "4 7\n",
      "5 6\n",
      "0 1\n",
      "1 4\n",
      "1 5\n",
      "2 3\n",
      "4 5\n",
      "5 7\n",
      "1 6\n",
      "0 3\n",
      "1 2\n",
      "2 4\n",
      "3 5\n",
      "5 6\n",
      "1 7\n",
      "1 0\n",
      "1 6\n",
      "1 2\n",
      "1 3\n",
      "1 4\n",
      "5 7\n",
      "1 0\n",
      "1 1\n",
      "1 2\n",
      "3 4\n",
      "4 6\n",
      "5 7\n",
      "1 0\n",
      "1 3\n",
      "1 5\n",
      "2 7\n",
      "3 5\n",
      "4 6\n",
      "0 1\n",
      "0 5\n",
      "2 3\n",
      "2 4\n",
      "1 6\n",
      "1 7\n",
      "0 3\n",
      "1 2\n",
      "3 4\n",
      "1 5\n",
      "1 6\n",
      "1 7\n",
      "0 5\n",
      "0 6\n",
      "1 2\n",
      "2 4\n",
      "1 3\n",
      "5 6\n",
      "1 7\n",
      "0 2\n",
      "1 2\n",
      "3 4\n",
      "4 6\n",
      "4 7\n",
      "1 5\n",
      "6 7\n",
      "{'2 8 5 7 6 3 1 4': 3, '1 3 2 4 5 8 7 6': 0, '6 3 8 1 4 5 7 2': 2, '8 5 6 1 2 4 7 3': 3, '2 8 1 3 6 5 4 7': 2, '7 1 3 6 2 8 4 5': 3, '8 5 6 2 3 7 1 4': 2, '6 3 2 1 5 7 8 4': 3, '6 8 5 1 4 2 7 3': 6, '5 4 7 1 8 2 6 3': 3, '6 8 7 5 1 3 2 4': 1, '4 5 7 6 2 1 8 3': 1, '8 2 1 5 3 7 6 4': 1, '4 7 5 3 1 6 2 8': 4, '1 3 5 7 8 4 6 2': 3, '8 5 7 3 6 1 4 2': 1, '6 7 3 2 5 1 8 4': 2, '5 3 4 8 7 2 6 1': 3, '2 5 6 1 4 7 8 3': 2, '4 1 2 6 5 3 7 8': 1}\n"
     ]
    }
   ],
   "execution_count": 49
  },
  {
   "metadata": {
    "ExecuteTime": {
     "end_time": "2024-06-28T13:28:44.419699Z",
     "start_time": "2024-06-28T13:28:44.417681Z"
    }
   },
   "cell_type": "code",
   "source": "population ",
   "id": "368a0cf32f6f35f",
   "outputs": [
    {
     "data": {
      "text/plain": [
       "[4, 4, 4, 4, 4, 4, 4, 4, 4, 4, 4, 4, 4, 4, 4, 4, 4, 4, 4, 4]"
      ]
     },
     "execution_count": 46,
     "metadata": {},
     "output_type": "execute_result"
    }
   ],
   "execution_count": 46
  },
  {
   "metadata": {
    "ExecuteTime": {
     "end_time": "2024-06-26T18:17:16.679046Z",
     "start_time": "2024-06-26T18:17:16.676954Z"
    }
   },
   "cell_type": "code",
   "source": [
    "\n",
    "d = {repr([1,2,3]): 'value'}"
   ],
   "id": "e545b2777d901b0f",
   "outputs": [],
   "execution_count": 21
  },
  {
   "metadata": {
    "ExecuteTime": {
     "end_time": "2024-06-26T18:19:40.947655Z",
     "start_time": "2024-06-26T18:19:40.944887Z"
    }
   },
   "cell_type": "code",
   "source": "type(list(d.keys())[0])",
   "id": "e88af31db2303252",
   "outputs": [
    {
     "data": {
      "text/plain": [
       "str"
      ]
     },
     "execution_count": 31,
     "metadata": {},
     "output_type": "execute_result"
    }
   ],
   "execution_count": 31
  },
  {
   "metadata": {},
   "cell_type": "code",
   "outputs": [],
   "execution_count": null,
   "source": "",
   "id": "d280cf1c6e560947"
  }
 ],
 "metadata": {
  "kernelspec": {
   "display_name": "Python 3",
   "language": "python",
   "name": "python3"
  },
  "language_info": {
   "codemirror_mode": {
    "name": "ipython",
    "version": 2
   },
   "file_extension": ".py",
   "mimetype": "text/x-python",
   "name": "python",
   "nbconvert_exporter": "python",
   "pygments_lexer": "ipython2",
   "version": "2.7.6"
  }
 },
 "nbformat": 4,
 "nbformat_minor": 5
}
