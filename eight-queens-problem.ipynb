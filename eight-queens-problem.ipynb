{
 "cells": [
  {
   "cell_type": "markdown",
   "id": "4e262310",
   "metadata": {},
   "source": [
    "### Import Libs"
   ]
  },
  {
   "cell_type": "code",
   "id": "95d3f1324b0501e6",
   "metadata": {
    "collapsed": false,
    "ExecuteTime": {
     "end_time": "2024-06-29T07:06:51.254464Z",
     "start_time": "2024-06-29T07:06:51.251463Z"
    }
   },
   "source": [
    "import matplotlib.pyplot as plt\n",
    "import numpy as np\n",
    "import random"
   ],
   "outputs": [],
   "execution_count": 90
  },
  {
   "cell_type": "markdown",
   "id": "9da22522",
   "metadata": {},
   "source": [
    "### Create Individual"
   ]
  },
  {
   "cell_type": "code",
   "id": "de1142d0",
   "metadata": {
    "ExecuteTime": {
     "end_time": "2024-06-29T07:06:51.266784Z",
     "start_time": "2024-06-29T07:06:51.264919Z"
    }
   },
   "source": [
    "def create_individual():\n",
    "    # TODO: create a random chromosome\n",
    "    arr = np.array(range(1,9,1))\n",
    "    np.random.shuffle(arr)\n",
    "    \n",
    "    return arr.tolist()"
   ],
   "outputs": [],
   "execution_count": 91
  },
  {
   "cell_type": "markdown",
   "id": "4ce5eabe",
   "metadata": {},
   "source": [
    "### Generate Population"
   ]
  },
  {
   "cell_type": "code",
   "id": "a66475735b552b41",
   "metadata": {
    "collapsed": false,
    "ExecuteTime": {
     "end_time": "2024-06-29T07:06:51.288420Z",
     "start_time": "2024-06-29T07:06:51.286409Z"
    }
   },
   "source": [
    "def generate_population(population_size:int = 20):\n",
    "    population = []\n",
    "\n",
    "    for _ in range(population_size):\n",
    "        new_individual = create_individual()\n",
    "        population.append(new_individual)\n",
    "    \n",
    "    return population"
   ],
   "outputs": [],
   "execution_count": 92
  },
  {
   "metadata": {},
   "cell_type": "markdown",
   "source": "### Parent Selection",
   "id": "0d944dab"
  },
  {
   "metadata": {
    "ExecuteTime": {
     "end_time": "2024-06-29T07:06:51.291736Z",
     "start_time": "2024-06-29T07:06:51.289362Z"
    }
   },
   "cell_type": "code",
   "source": [
    "def SUS(population: dict, population_size:int = 20):\n",
    "    probability_ruler = []\n",
    "    population_keys = list(population.keys())\n",
    "    \n",
    "    selected_list = []\n",
    "    \n",
    "    for i in range(len(population)):\n",
    "        if i == 0:\n",
    "            probability_ruler.append(population[population_keys[i]])\n",
    "            continue\n",
    "        probability_ruler.append(population[population_keys[i]] + probability_ruler[i - 1])\n",
    "    \n",
    "    rand_prob = random.random() / population_size\n",
    "    \n",
    "    index = 0\n",
    "    for i in range(population_size):\n",
    "        current_prob = rand_prob + i / population_size\n",
    "        if current_prob < probability_ruler[index]:\n",
    "            selected_list.append(population_keys[index])\n",
    "        else:\n",
    "            index += 1\n",
    "            for j in range(index, len(population_keys)):\n",
    "                if current_prob < probability_ruler[j]:\n",
    "                    index = j\n",
    "                    selected_list.append(population_keys[index])\n",
    "                    break\n",
    "            \n",
    "    return selected_list"
   ],
   "id": "794f6e2e1a020298",
   "outputs": [],
   "execution_count": 93
  },
  {
   "cell_type": "code",
   "id": "261340cc4efeca3",
   "metadata": {
    "collapsed": false,
    "ExecuteTime": {
     "end_time": "2024-06-29T07:06:51.298412Z",
     "start_time": "2024-06-29T07:06:51.296626Z"
    }
   },
   "source": [
    "def parent_selection(population: dict ,population_size:int = 20):\n",
    "    #TODO: choose the pairs of parents\n",
    "    sum_population = sum(population.values())\n",
    "    prob_population = {}\n",
    "    for p in population.keys():\n",
    "        prob_population[p] = population[p] / sum_population\n",
    "    \n",
    "    parents = SUS(prob_population,population_size)\n",
    "            \n",
    "    return parents"
   ],
   "outputs": [],
   "execution_count": 94
  },
  {
   "cell_type": "markdown",
   "id": "c6c4da1f",
   "metadata": {},
   "source": [
    "### Next Generation Selection"
   ]
  },
  {
   "cell_type": "code",
   "id": "d22feb7e",
   "metadata": {
    "ExecuteTime": {
     "end_time": "2024-06-29T07:06:51.300631Z",
     "start_time": "2024-06-29T07:06:51.299141Z"
    }
   },
   "source": [
    "def next_generation_selection(children_population):\n",
    "    next_generation = []\n",
    "    #TODO: choose the next_generation    \n",
    "    return children_population"
   ],
   "outputs": [],
   "execution_count": 95
  },
  {
   "cell_type": "markdown",
   "id": "f4380bb4",
   "metadata": {},
   "source": [
    "### Crossover"
   ]
  },
  {
   "cell_type": "code",
   "id": "a140f7ad9542ffba",
   "metadata": {
    "collapsed": false,
    "ExecuteTime": {
     "end_time": "2024-06-29T07:06:51.304548Z",
     "start_time": "2024-06-29T07:06:51.301321Z"
    }
   },
   "source": [
    "def crossover(parents):\n",
    "    offsprings = []\n",
    "    # TODO: implement you crossover algorithm\n",
    "    parents = np.array(parents)\n",
    "    np.random.shuffle(parents)\n",
    "    queen_number = len(parents[0].split(\" \"))\n",
    "\n",
    "    for i in range(int(len(parents) / 2)):\n",
    "        if random.random() > 0.8:\n",
    "            continue\n",
    "\n",
    "        crossover_point = random.randint(0, queen_number - 1)\n",
    "\n",
    "        parent_1 = [int(p) for p in parents[2 * i].split(\" \")]\n",
    "        parent_2 = [int(p) for p in parents[2 * i + 1].split(\" \")]\n",
    "\n",
    "        offspring_1 = parent_1[:crossover_point]\n",
    "        offspring_2 = parent_2[:crossover_point]\n",
    "\n",
    "        index = crossover_point\n",
    "        for j in range(queen_number - crossover_point):\n",
    "            if parent_2[index] not in offspring_1:\n",
    "                offspring_1.append(parent_2[index])\n",
    "                index = (index + 1) % queen_number\n",
    "                continue\n",
    "\n",
    "            while parent_2[index] in offspring_1:\n",
    "                index = (index + 1) % queen_number\n",
    "\n",
    "            offspring_1.append(parent_2[index])\n",
    "\n",
    "        index = crossover_point\n",
    "        for j in range(queen_number - crossover_point):\n",
    "            if parent_1[index] not in offspring_2:\n",
    "                offspring_2.append(parent_1[index])\n",
    "                index = (index + 1) % queen_number\n",
    "                continue\n",
    "\n",
    "            while parent_1[index] in offspring_2:\n",
    "                index = (index + 1) % queen_number\n",
    "\n",
    "            offspring_2.append(parent_1[index])\n",
    "\n",
    "        offsprings.append(offspring_1)\n",
    "        offsprings.append(offspring_2)\n",
    "\n",
    "    return offsprings"
   ],
   "outputs": [],
   "execution_count": 96
  },
  {
   "cell_type": "markdown",
   "id": "0bdde8d6",
   "metadata": {},
   "source": [
    "### Mutation"
   ]
  },
  {
   "cell_type": "code",
   "id": "7f3f19b5790d8e8e",
   "metadata": {
    "collapsed": false,
    "ExecuteTime": {
     "end_time": "2024-06-29T07:06:51.314205Z",
     "start_time": "2024-06-29T07:06:51.311915Z"
    }
   },
   "source": [
    "def mutate(population):\n",
    "    # TODO: implement mutate\n",
    "    mutated_population = []\n",
    "    queen_number = len(population[0])\n",
    "    for p in population:\n",
    "        if random.random() < 0.05:\n",
    "            index1 = random.randint(0, queen_number - 1)\n",
    "            index2 = random.randint(0, queen_number - 1)\n",
    "            while index1 == index2:\n",
    "                index2 = random.randint(0, queen_number - 1)\n",
    "\n",
    "            m = p\n",
    "            m[index1], m[index2] = m[index2], m[index1]\n",
    "            mutated_population.append(m)\n",
    "            continue\n",
    "        mutated_population.append(p)\n",
    "\n",
    "    return mutated_population"
   ],
   "outputs": [],
   "execution_count": 97
  },
  {
   "cell_type": "markdown",
   "id": "833ea75e",
   "metadata": {},
   "source": [
    "### Score Function"
   ]
  },
  {
   "cell_type": "code",
   "id": "15c492631c51bd96",
   "metadata": {
    "collapsed": false,
    "ExecuteTime": {
     "end_time": "2024-06-29T07:06:51.331862Z",
     "start_time": "2024-06-29T07:06:51.329309Z"
    }
   },
   "source": [
    "def fitness_score(seq):\n",
    "    fit_score = 0\n",
    "    #TODO: calculate fitness score\n",
    "    status_queen = np.ones(len(seq))\n",
    "    for current_row in range(len(seq)):\n",
    "        flag = 1\n",
    "        for other_row in range(current_row+1,len(seq)):\n",
    "            if seq[current_row] == seq[other_row]:\n",
    "                # print(current_row, other_row)\n",
    "                status_queen[current_row] = 0\n",
    "                status_queen[other_row] = 0\n",
    "                flag = 0\n",
    "                continue\n",
    "            if abs(seq[current_row] - seq[other_row]) == abs(current_row - other_row):\n",
    "                # print(current_row, other_row)\n",
    "                status_queen[current_row] = 0\n",
    "                status_queen[other_row] = 0\n",
    "                flag = 0\n",
    "                continue\n",
    "        \n",
    "        if flag==1 and status_queen[current_row] == 1: \n",
    "            # print(flag , current_row)\n",
    "            fit_score += 1\n",
    "    return fit_score"
   ],
   "outputs": [],
   "execution_count": 98
  },
  {
   "metadata": {
    "ExecuteTime": {
     "end_time": "2024-06-29T07:06:51.335027Z",
     "start_time": "2024-06-29T07:06:51.332815Z"
    }
   },
   "cell_type": "code",
   "source": "fitness_score([5, 4, 7, 6, 2, 3, 1, 8])",
   "id": "b0ca1cc41af4ce34",
   "outputs": [
    {
     "data": {
      "text/plain": [
       "2"
      ]
     },
     "execution_count": 99,
     "metadata": {},
     "output_type": "execute_result"
    }
   ],
   "execution_count": 99
  },
  {
   "cell_type": "markdown",
   "id": "9a4ea63e",
   "metadata": {},
   "source": [
    "## Calculate Population Fitness"
   ]
  },
  {
   "cell_type": "code",
   "id": "ae632959",
   "metadata": {
    "ExecuteTime": {
     "end_time": "2024-06-29T07:06:51.337481Z",
     "start_time": "2024-06-29T07:06:51.335737Z"
    }
   },
   "source": [
    "def population_fitness(population):\n",
    "    population_fitness = 0\n",
    "    individuals_fitnesses:dict = {}\n",
    "    for chromosome in population:\n",
    "        fitness_sc = fitness_score(chromosome)\n",
    "        population_fitness += fitness_sc\n",
    "        ch= ' '.join(str(x) for x in chromosome)\n",
    "        # print(ch)\n",
    "        individuals_fitnesses[ch] = fitness_sc\n",
    "    return individuals_fitnesses ,population_fitness"
   ],
   "outputs": [],
   "execution_count": 100
  },
  {
   "cell_type": "markdown",
   "id": "99b5facc",
   "metadata": {},
   "source": [
    "### Termination Condition"
   ]
  },
  {
   "cell_type": "code",
   "id": "5f77977c",
   "metadata": {
    "ExecuteTime": {
     "end_time": "2024-06-29T07:06:51.340134Z",
     "start_time": "2024-06-29T07:06:51.338623Z"
    }
   },
   "source": [
    "def check_end(population) -> bool:\n",
    "    #TODO: check end of algorithm\n",
    "    queen_number = len(list(population.keys())[0].split(\" \"))\n",
    "    for p in population.keys():\n",
    "        if population[p] == queen_number:\n",
    "            return True\n",
    "    return False"
   ],
   "outputs": [],
   "execution_count": 101
  },
  {
   "metadata": {
    "ExecuteTime": {
     "end_time": "2024-06-29T07:06:51.342436Z",
     "start_time": "2024-06-29T07:06:51.340947Z"
    }
   },
   "cell_type": "code",
   "source": [
    "def get_solution(population):\n",
    "    queen_number = len(list(population.keys())[0].split(\" \"))\n",
    "    for p in population.keys():\n",
    "        if population[p] == queen_number:\n",
    "            return p"
   ],
   "id": "5c35ce4ee982c747",
   "outputs": [],
   "execution_count": 102
  },
  {
   "cell_type": "markdown",
   "id": "b223c1dc",
   "metadata": {},
   "source": [
    "### Run Your Algorithms"
   ]
  },
  {
   "cell_type": "code",
   "id": "392ff74d8fb7ab3e",
   "metadata": {
    "collapsed": false,
    "ExecuteTime": {
     "end_time": "2024-06-29T07:06:51.375141Z",
     "start_time": "2024-06-29T07:06:51.343092Z"
    }
   },
   "source": [
    "# The genetic algorithm\n",
    "generation = 0\n",
    "solution_is_found = False\n",
    "fitness = []\n",
    "\n",
    "population = generate_population()\n",
    "population , population_fit = population_fitness(population)\n",
    "\n",
    "while not check_end(population):\n",
    "    # TODO: this is a default setup which you maybe need to change.\n",
    "    population = parent_selection(population)\n",
    "    population = crossover(population)\n",
    "    population = mutate(population)\n",
    "    population = next_generation_selection(population)\n",
    "    population , population_fit = population_fitness(population)\n",
    "    \n",
    "    generation += 1\n",
    "    avg_fit = population_fit / population.__len__()\n",
    "    fitness.append(avg_fit)\n"
   ],
   "outputs": [],
   "execution_count": 103
  },
  {
   "cell_type": "markdown",
   "id": "174334b7",
   "metadata": {},
   "source": [
    "### See Your Progress Over Generations"
   ]
  },
  {
   "metadata": {
    "ExecuteTime": {
     "end_time": "2024-06-29T07:06:51.377684Z",
     "start_time": "2024-06-29T07:06:51.376188Z"
    }
   },
   "cell_type": "code",
   "source": [
    "solution= get_solution(population)\n",
    "print(f\"solution found: {solution}\")"
   ],
   "id": "5e4f2e84b7a72615",
   "outputs": [
    {
     "name": "stdout",
     "output_type": "stream",
     "text": [
      "solution found: 6 3 7 2 8 5 1 4\n"
     ]
    }
   ],
   "execution_count": 104
  },
  {
   "cell_type": "code",
   "id": "62a19a5f372d7885",
   "metadata": {
    "collapsed": false,
    "ExecuteTime": {
     "end_time": "2024-06-29T07:06:51.534133Z",
     "start_time": "2024-06-29T07:06:51.378135Z"
    }
   },
   "source": [
    "plt.bar(range(generation), fitness, color='skyblue')\n",
    "plt.xlabel('Generation', fontsize=20)\n",
    "plt.ylabel('Average Fitness', fontsize=20)\n",
    "plt.title('Fitness over Generations', fontsize=20)\n",
    "plt.show()"
   ],
   "outputs": [
    {
     "data": {
      "text/plain": [
       "<Figure size 640x480 with 1 Axes>"
      ],
      "image/png": "[encoded data removed]"
     },
     "metadata": {},
     "output_type": "display_data"
    }
   ],
   "execution_count": 105
  }
 ],
 "metadata": {
  "kernelspec": {
   "display_name": "Python 3",
   "language": "python",
   "name": "python3"
  },
  "language_info": {
   "codemirror_mode": {
    "name": "ipython",
    "version": 2
   },
   "file_extension": ".py",
   "mimetype": "text/x-python",
   "name": "python",
   "nbconvert_exporter": "python",
   "pygments_lexer": "ipython2",
   "version": "2.7.6"
  }
 },
 "nbformat": 4,
 "nbformat_minor": 5
}
